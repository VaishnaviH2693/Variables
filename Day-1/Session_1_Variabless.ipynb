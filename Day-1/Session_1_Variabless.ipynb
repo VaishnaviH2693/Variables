{
 "cells": [
  {
   "cell_type": "code",
   "execution_count": 1,
   "id": "2ef6a7a7-7456-4d6c-9ffb-9082ff29b290",
   "metadata": {},
   "outputs": [
    {
     "ename": "SyntaxError",
     "evalue": "invalid syntax (2162563469.py, line 1)",
     "output_type": "error",
     "traceback": [
      "\u001b[1;36m  Cell \u001b[1;32mIn[1], line 1\u001b[1;36m\u001b[0m\n\u001b[1;33m    i like python#erroe:comment\u001b[0m\n\u001b[1;37m      ^\u001b[0m\n\u001b[1;31mSyntaxError\u001b[0m\u001b[1;31m:\u001b[0m invalid syntax\n"
     ]
    }
   ],
   "source": [
    "i like python     #error:comment"
   ]
  },
  {
   "cell_type": "code",
   "execution_count": 2,
   "id": "cc1dd1b7-0ffd-4161-b230-36e9daa9ca5f",
   "metadata": {},
   "outputs": [],
   "source": [
    "# i like python comment"
   ]
  },
  {
   "cell_type": "markdown",
   "id": "3759f50c-531b-477e-9496-fd666c123424",
   "metadata": {},
   "source": [
    "today im learnig python\n",
    "python is very easy"
   ]
  },
  {
   "cell_type": "markdown",
   "id": "32aafc0c-33b2-4175-ab7c-bc1ea3fb8943",
   "metadata": {},
   "source": [
    "i like vaishnavi"
   ]
  },
  {
   "cell_type": "markdown",
   "id": "ad4df63d-be9f-4bf8-b605-2fdb027e7f6f",
   "metadata": {},
   "source": [
    "# python esc+m"
   ]
  },
  {
   "cell_type": "markdown",
   "id": "6abbab39-3273-42ca-9f61-c6c6087fd4b6",
   "metadata": {},
   "source": [
    "## python "
   ]
  },
  {
   "cell_type": "markdown",
   "id": "056472ea-4ca2-4b28-90c7-6ba3c38109e7",
   "metadata": {},
   "source": [
    "### python "
   ]
  },
  {
   "cell_type": "markdown",
   "id": "f454348f-1c9c-4fb2-99fa-971ead50ceec",
   "metadata": {},
   "source": [
    "#### python"
   ]
  },
  {
   "cell_type": "markdown",
   "id": "93e056e9-f120-436f-9925-3232dd4a079c",
   "metadata": {},
   "source": [
    "- toady im learning  python \n",
    "- python is good \n",
    "- python is easy\n",
    "- python is excellent"
   ]
  },
  {
   "cell_type": "code",
   "execution_count": null,
   "id": "6c3ecd09-0d5f-410f-bb39-743a9a140f34",
   "metadata": {},
   "outputs": [],
   "source": [
    "a=10\n",
    "b=20\n",
    "c=a+c\n",
    "c\n",
    "\n",
    "\n",
    "#esc+y   markdown to code mode\n",
    "#esc+m   code to markdown mode"
   ]
  },
  {
   "cell_type": "markdown",
   "id": "330060df-a3e4-46d8-8f1b-b489facbde2f",
   "metadata": {},
   "source": [
    "## Variables"
   ]
  },
  {
   "cell_type": "markdown",
   "id": "13b7c652-d2de-4093-a4d3-839ced38c681",
   "metadata": {},
   "source": [
    "- store the value \n",
    "- change the value"
   ]
  },
  {
   "cell_type": "code",
   "execution_count": 3,
   "id": "b89367c0-ee4f-42f6-b5f3-fc582154c0cb",
   "metadata": {},
   "outputs": [],
   "source": [
    "number= 100\n",
    "# 100 is a value stored in a variable called number"
   ]
  },
  {
   "cell_type": "code",
   "execution_count": 4,
   "id": "e3ff0820-1a04-45c9-9f0a-7603598e9043",
   "metadata": {},
   "outputs": [
    {
     "name": "stdout",
     "output_type": "stream",
     "text": [
      "100\n"
     ]
    }
   ],
   "source": [
    "print (number)"
   ]
  },
  {
   "cell_type": "code",
   "execution_count": 5,
   "id": "9102ffa0-9aae-40b9-bc6b-556532d387c2",
   "metadata": {},
   "outputs": [
    {
     "data": {
      "text/plain": [
       "200"
      ]
     },
     "execution_count": 5,
     "metadata": {},
     "output_type": "execute_result"
    }
   ],
   "source": [
    "number=200\n",
    "number"
   ]
  },
  {
   "cell_type": "code",
   "execution_count": 6,
   "id": "11afebe3-353d-469e-80f5-e64718a04216",
   "metadata": {},
   "outputs": [
    {
     "name": "stdout",
     "output_type": "stream",
     "text": [
      "200\n"
     ]
    }
   ],
   "source": [
    "number=200\n",
    "print(number)"
   ]
  },
  {
   "cell_type": "code",
   "execution_count": 7,
   "id": "fe1e0c84-c980-45f3-8b30-e063aba8751d",
   "metadata": {},
   "outputs": [
    {
     "data": {
      "text/plain": [
       "300"
      ]
     },
     "execution_count": 7,
     "metadata": {},
     "output_type": "execute_result"
    }
   ],
   "source": [
    "number1=200\n",
    "number2=300\n",
    "number1\n",
    "number2"
   ]
  },
  {
   "cell_type": "code",
   "execution_count": 8,
   "id": "966af11c-9579-46f7-876e-fc0733ff8ecd",
   "metadata": {},
   "outputs": [
    {
     "name": "stdout",
     "output_type": "stream",
     "text": [
      "200\n",
      "300\n"
     ]
    }
   ],
   "source": [
    "number1=200\n",
    "number2=300\n",
    "print(number1)\n",
    "print(number2)"
   ]
  },
  {
   "cell_type": "code",
   "execution_count": 7,
   "id": "025ff611-c1bc-4162-9168-89a54558eab9",
   "metadata": {},
   "outputs": [],
   "source": [
    "number=100\n",
    "NUMBER=200"
   ]
  },
  {
   "cell_type": "code",
   "execution_count": 8,
   "id": "ecefc065-62ec-4393-b84b-600f0e48de34",
   "metadata": {},
   "outputs": [
    {
     "data": {
      "text/plain": [
       "100"
      ]
     },
     "execution_count": 8,
     "metadata": {},
     "output_type": "execute_result"
    }
   ],
   "source": [
    "number"
   ]
  },
  {
   "cell_type": "code",
   "execution_count": 9,
   "id": "3fe31834-7f54-404e-aaf1-a090a6abc7c6",
   "metadata": {},
   "outputs": [
    {
     "data": {
      "text/plain": [
       "200"
      ]
     },
     "execution_count": 9,
     "metadata": {},
     "output_type": "execute_result"
    }
   ],
   "source": [
    "NUMBER\n"
   ]
  },
  {
   "cell_type": "code",
   "execution_count": 12,
   "id": "1dc9ff4b-1541-4d80-857f-843889324984",
   "metadata": {},
   "outputs": [
    {
     "data": {
      "text/plain": [
       "400"
      ]
     },
     "execution_count": 12,
     "metadata": {},
     "output_type": "execute_result"
    }
   ],
   "source": [
    "number123=400\n",
    "number123\n"
   ]
  },
  {
   "cell_type": "code",
   "execution_count": null,
   "id": "498b2680-8609-4e62-9fd0-e56b6935ae64",
   "metadata": {},
   "outputs": [],
   "source": [
    "number     #small\n",
    "NUMBER     #capital\n",
    "number123  #number as suffix"
   ]
  },
  {
   "cell_type": "code",
   "execution_count": 14,
   "id": "294443dc-46f5-40e2-befe-fe0b8bae1865",
   "metadata": {},
   "outputs": [
    {
     "ename": "SyntaxError",
     "evalue": "invalid decimal literal (1348441777.py, line 1)",
     "output_type": "error",
     "traceback": [
      "\u001b[1;36m  Cell \u001b[1;32mIn[14], line 1\u001b[1;36m\u001b[0m\n\u001b[1;33m    123number=500   #error:not start from no\u001b[0m\n\u001b[1;37m      ^\u001b[0m\n\u001b[1;31mSyntaxError\u001b[0m\u001b[1;31m:\u001b[0m invalid decimal literal\n"
     ]
    }
   ],
   "source": [
    "123number=500   #error:not start from no"
   ]
  },
  {
   "cell_type": "code",
   "execution_count": 15,
   "id": "6ed21b24-0bcb-4277-8955-3fe7169cbf78",
   "metadata": {},
   "outputs": [],
   "source": [
    "number%=600"
   ]
  },
  {
   "cell_type": "code",
   "execution_count": null,
   "id": "396e50c0-9c32-4194-8a3e-01c9d7191ab0",
   "metadata": {},
   "outputs": [],
   "source": [
    "number     #work\n",
    "NUMBER     #work\n",
    "number123  #work\n",
    "123number  #not work or fail\n",
    "number@   #not work or fail"
   ]
  },
  {
   "cell_type": "code",
   "execution_count": null,
   "id": "a7a920bd-2db5-4237-9e83-38fe64a45301",
   "metadata": {},
   "outputs": [],
   "source": [
    "number    \n",
    "NUMBER     \n",
    "number123  "
   ]
  },
  {
   "cell_type": "code",
   "execution_count": 17,
   "id": "93dd5e5e-1cb6-49f8-b51c-694b67c5d724",
   "metadata": {},
   "outputs": [
    {
     "ename": "SyntaxError",
     "evalue": "invalid syntax (1459317594.py, line 1)",
     "output_type": "error",
     "traceback": [
      "\u001b[1;36m  Cell \u001b[1;32mIn[17], line 1\u001b[1;36m\u001b[0m\n\u001b[1;33m    number one=600 #spacenot work\u001b[0m\n\u001b[1;37m           ^\u001b[0m\n\u001b[1;31mSyntaxError\u001b[0m\u001b[1;31m:\u001b[0m invalid syntax\n"
     ]
    }
   ],
   "source": [
    "number one=600 #spacenot work"
   ]
  },
  {
   "cell_type": "code",
   "execution_count": 18,
   "id": "852b086f-20b2-4aac-8238-9998f6fb406a",
   "metadata": {},
   "outputs": [
    {
     "data": {
      "text/plain": [
       "800"
      ]
     },
     "execution_count": 18,
     "metadata": {},
     "output_type": "execute_result"
    }
   ],
   "source": [
    "number_one=800\n",
    "number_one"
   ]
  },
  {
   "cell_type": "code",
   "execution_count": null,
   "id": "4d29de67-3cfa-4cd9-ae26-ab04369dd8de",
   "metadata": {},
   "outputs": [],
   "source": [
    "areaoftraingle=100   #w\n",
    "area_of_traingle=200  #w\n",
    "area of traingle=300  #fail or not  working space"
   ]
  },
  {
   "cell_type": "code",
   "execution_count": null,
   "id": "5d85d862-77d4-4fec-9ee0-8214143ac97c",
   "metadata": {},
   "outputs": [],
   "source": [
    "number=100        #work\n",
    "Number=200        #work\n",
    "NUMBER=300        #work\n",
    "number one=400    #Fail\n",
    "number_one =500   #work\n",
    "_=600             #woek\n",
    "number@=700       #fail(special_ charater_not _allow)\n",
    "if=800            #fail\n",
    "else=900          #Fail"
   ]
  },
  {
   "cell_type": "code",
   "execution_count": 19,
   "id": "44304f54-b201-4052-a1ab-2e80b2f65512",
   "metadata": {},
   "outputs": [
    {
     "name": "stdout",
     "output_type": "stream",
     "text": [
      "100\n"
     ]
    }
   ],
   "source": [
    "print(100)"
   ]
  },
  {
   "cell_type": "code",
   "execution_count": 20,
   "id": "eeb65bd4-138d-4286-a116-57de4b6e21cd",
   "metadata": {},
   "outputs": [
    {
     "ename": "SyntaxError",
     "evalue": "cannot assign to function call here. Maybe you meant '==' instead of '='? (258216507.py, line 1)",
     "output_type": "error",
     "traceback": [
      "\u001b[1;36m  Cell \u001b[1;32mIn[20], line 1\u001b[1;36m\u001b[0m\n\u001b[1;33m    print()=100 #error:value should be in brackets\u001b[0m\n\u001b[1;37m    ^\u001b[0m\n\u001b[1;31mSyntaxError\u001b[0m\u001b[1;31m:\u001b[0m cannot assign to function call here. Maybe you meant '==' instead of '='?\n"
     ]
    }
   ],
   "source": [
    "print()=100 #error:value should be in brackets"
   ]
  },
  {
   "cell_type": "markdown",
   "id": "f08cadc8-6924-47d7-810c-ac3a2e26895a",
   "metadata": {},
   "source": [
    "-Variables are case sensitive\n",
    "    - number and NUMBER\n",
    "\n",
    "- Variables can be capital and small letters\n",
    "   \n",
    "- numbers as starting  does not allow as  variables\n",
    "    - 123number\n",
    "\n",
    "- Variables does not include special charateres\n",
    "    - number@\n",
    "\n",
    "- keywords or reserved work look like green also not allowed  as variables\n",
    "    - ex: if else for True  False elif def etc\n"
   ]
  },
  {
   "cell_type": "code",
   "execution_count": 21,
   "id": "1b72c472-9264-45b7-920b-763594c88314",
   "metadata": {},
   "outputs": [
    {
     "name": "stdout",
     "output_type": "stream",
     "text": [
      "100\n"
     ]
    }
   ],
   "source": [
    "num=100\n",
    "print(num)"
   ]
  },
  {
   "cell_type": "code",
   "execution_count": 22,
   "id": "67dae262-3e0e-496c-90d9-4ad78fac01d7",
   "metadata": {},
   "outputs": [
    {
     "data": {
      "text/plain": [
       "int"
      ]
     },
     "execution_count": 22,
     "metadata": {},
     "output_type": "execute_result"
    }
   ],
   "source": [
    "type(num)"
   ]
  },
  {
   "cell_type": "code",
   "execution_count": 23,
   "id": "f0698d63-7c58-48f8-876c-a738039cbf49",
   "metadata": {},
   "outputs": [
    {
     "data": {
      "text/plain": [
       "100"
      ]
     },
     "execution_count": 23,
     "metadata": {},
     "output_type": "execute_result"
    }
   ],
   "source": [
    "sum=100\n",
    "sum   # dont use\n",
    "# sum use case is different"
   ]
  },
  {
   "cell_type": "code",
   "execution_count": 1,
   "id": "da142b4d-ad75-419e-a67b-3e35deb0ec2e",
   "metadata": {},
   "outputs": [
    {
     "data": {
      "text/plain": [
       "300"
      ]
     },
     "execution_count": 1,
     "metadata": {},
     "output_type": "execute_result"
    }
   ],
   "source": [
    "sum([100,200])"
   ]
  },
  {
   "cell_type": "markdown",
   "id": "6410b272-23e1-4719-a3b5-ece8b2b164ab",
   "metadata": {},
   "source": [
    "**Variable shoud be black color**"
   ]
  },
  {
   "cell_type": "code",
   "execution_count": null,
   "id": "a5aa75fe-55a4-4265-bb7b-66534494dab3",
   "metadata": {},
   "outputs": [],
   "source": [
    "Sum=300 # correct Way\n",
    "sum=400 # wrong Way"
   ]
  },
  {
   "cell_type": "code",
   "execution_count": null,
   "id": "acf57631-d567-482a-b0b8-bf1ba5f47a82",
   "metadata": {},
   "outputs": [],
   "source": [
    "max=500  #wrong way it will work\n",
    "Max=500 # correct Way"
   ]
  },
  {
   "cell_type": "code",
   "execution_count": 3,
   "id": "6a27a964-426f-413f-9332-0f7f178046d1",
   "metadata": {},
   "outputs": [
    {
     "data": {
      "text/plain": [
       "200"
      ]
     },
     "execution_count": 3,
     "metadata": {},
     "output_type": "execute_result"
    }
   ],
   "source": [
    "max([100,200])"
   ]
  },
  {
   "cell_type": "code",
   "execution_count": null,
   "id": "7d603083-6f39-46ac-9f87-2d10b739ffaf",
   "metadata": {},
   "outputs": [],
   "source": [
    "min=200 # it will work but wrong way\n",
    "Min=300"
   ]
  },
  {
   "cell_type": "code",
   "execution_count": 4,
   "id": "433fc5e7-b7a9-4514-ba83-227c56e91735",
   "metadata": {},
   "outputs": [
    {
     "data": {
      "text/plain": [
       "100"
      ]
     },
     "execution_count": 4,
     "metadata": {},
     "output_type": "execute_result"
    }
   ],
   "source": [
    "min([100,200])"
   ]
  },
  {
   "cell_type": "code",
   "execution_count": null,
   "id": "8b9a75e5-44a7-466a-b647-0b849383f5f6",
   "metadata": {},
   "outputs": [],
   "source": [
    "print([100,200]) #print\n",
    "type([100,200])  #typelist\n",
    "sum([100,200])   #300\n",
    "max([100,200])  # 200\n",
    "min([100,200])  #100\n",
    "len([100,20])  #2"
   ]
  },
  {
   "cell_type": "code",
   "execution_count": null,
   "id": "df177f2a-ed24-46aa-bc57-3ef8e3f13619",
   "metadata": {},
   "outputs": [],
   "source": [
    "number     #work\n",
    "NUmber   #work\n",
    "NUMBER     #work\n",
    "number123 #work\n",
    "number_one #work\n",
    "number one # f\n",
    "number@ #F\n",
    "123number  #f\n",
    "if #f\n",
    "else #f \n",
    "max #works but not good \n",
    "min # works but not good"
   ]
  },
  {
   "cell_type": "code",
   "execution_count": null,
   "id": "13199148-41b1-439c-9713-3b349a440c7c",
   "metadata": {},
   "outputs": [],
   "source": []
  },
  {
   "cell_type": "code",
   "execution_count": null,
   "id": "66224ae7-3fa4-4ee7-acd6-6887bbfa927b",
   "metadata": {},
   "outputs": [],
   "source": []
  }
 ],
 "metadata": {
  "kernelspec": {
   "display_name": "Python [conda env:base] *",
   "language": "python",
   "name": "conda-base-py"
  },
  "language_info": {
   "codemirror_mode": {
    "name": "ipython",
    "version": 3
   },
   "file_extension": ".py",
   "mimetype": "text/x-python",
   "name": "python",
   "nbconvert_exporter": "python",
   "pygments_lexer": "ipython3",
   "version": "3.13.5"
  }
 },
 "nbformat": 4,
 "nbformat_minor": 5
}
