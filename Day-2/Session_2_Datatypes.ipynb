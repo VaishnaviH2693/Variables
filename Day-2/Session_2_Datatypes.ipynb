{
 "cells": [
  {
   "cell_type": "code",
   "execution_count": 1,
   "id": "8008b186-9f0c-41e5-b50f-b93cfd43fe98",
   "metadata": {},
   "outputs": [],
   "source": [
    "import os\n"
   ]
  },
  {
   "cell_type": "code",
   "execution_count": 4,
   "id": "40554284-5a43-4f74-bbc0-5ef6f5e3e2eb",
   "metadata": {},
   "outputs": [
    {
     "data": {
      "text/plain": [
       "'C:\\\\Users\\\\admin\\\\Documents\\\\NareshIT\\\\python_sessions'"
      ]
     },
     "execution_count": 4,
     "metadata": {},
     "output_type": "execute_result"
    }
   ],
   "source": [
    "os.getcwd() #filelocation"
   ]
  },
  {
   "cell_type": "markdown",
   "id": "42282d31-2c8a-484e-bbc5-efaa4fb08650",
   "metadata": {},
   "source": [
    "- we are using some inbulit function"
   ]
  },
  {
   "cell_type": "code",
   "execution_count": null,
   "id": "d0fe9f8e-adc4-4525-9c24-0f312d794f52",
   "metadata": {},
   "outputs": [],
   "source": [
    "print()\n",
    "type()\n",
    "sum()\n",
    "max()\n",
    "min()\n",
    "len()\n",
    "len[]   # wrong"
   ]
  },
  {
   "cell_type": "code",
   "execution_count": 5,
   "id": "0b89c1a0-25ab-400e-a9a3-e5fc7f92ad5c",
   "metadata": {},
   "outputs": [
    {
     "data": {
      "text/plain": [
       "'C:\\\\Users\\\\admin\\\\Documents\\\\NareshIT\\\\python_sessions'"
      ]
     },
     "execution_count": 5,
     "metadata": {},
     "output_type": "execute_result"
    }
   ],
   "source": [
    "os.getcwd() #filelocation"
   ]
  },
  {
   "cell_type": "markdown",
   "id": "176ffe81-a8cf-4d60-83a0-31db5370698a",
   "metadata": {},
   "source": [
    "- if we miss brackets\n",
    "  \n",
    "    - function\n",
    "  \n",
    "    - bound method"
   ]
  },
  {
   "cell_type": "markdown",
   "id": "4e1a12ed-71d2-4ef8-8574-ed8a9ad0a6fe",
   "metadata": {},
   "source": [
    "### Data types"
   ]
  },
  {
   "cell_type": "markdown",
   "id": "70f7b419-7bfe-4ca0-af68-70fe9c44fce2",
   "metadata": {},
   "source": [
    "- int\n",
    "\n",
    "- float\n",
    "\n",
    "- bool\n",
    "\n",
    "- str\n",
    "\n",
    "- complex\n",
    "\n",
    "- range\n",
    "\n",
    "- list\n",
    "\n",
    "- tuple\n",
    "\n",
    "- dict\n",
    "\n",
    "- set\n",
    "\n",
    "- frozenset\n",
    "\n",
    "- bytes\n",
    "\n",
    "- bytearray\n",
    "\n",
    "- memoryview"
   ]
  },
  {
   "cell_type": "markdown",
   "id": "2b29c76d-8ae7-482f-a346-37c43b8b07cc",
   "metadata": {},
   "source": [
    "### python basics\n",
    "    - Variables\n",
    "\n",
    "    - Data types\n",
    "\n",
    "    - Type casting , how to convert one data type to another data type\n",
    "\n",
    "    - print statements\n",
    "\n",
    "    - basic codes\n",
    "\n",
    "    - input , eval , round\n",
    "\n",
    "    - packages or libraries  i.e.very important\n",
    "\n",
    "    - conditional statements\n",
    "\n",
    "    - exceptional handling\n",
    "\n",
    "    - functions\n",
    "\n",
    "    - for and while\n",
    "### python core\n",
    "    - strings\n",
    "\n",
    "    - list \n",
    "\n",
    "        - list comprehension\n",
    "\n",
    "    - tuple   # my students\n",
    "\n",
    "    - dictionary\n",
    "\n",
    "    - lambda functions\n",
    "\n",
    "    - file handling\n",
    "\n",
    "30days ==== learn\n",
    "\n",
    "### python advanced\n",
    "\n",
    "    - oops EDA ML\n",
    "\n",
    "\n",
    "python + stats : EDA\n",
    "python + ML : \n",
    "python + DL\n",
    "python+ NLP\n",
    "python+Genai\n"
   ]
  },
  {
   "cell_type": "markdown",
   "id": "40ce4c3f-eded-4f53-93a2-ad61089e1ce1",
   "metadata": {},
   "source": [
    "**integer**"
   ]
  },
  {
   "cell_type": "code",
   "execution_count": 7,
   "id": "197d6b5d-baf4-4479-86b9-258c7c472a5d",
   "metadata": {},
   "outputs": [
    {
     "data": {
      "text/plain": [
       "int"
      ]
     },
     "execution_count": 7,
     "metadata": {},
     "output_type": "execute_result"
    }
   ],
   "source": [
    "number=100\n",
    "type(number)"
   ]
  },
  {
   "cell_type": "code",
   "execution_count": 2,
   "id": "0077ce96-9a01-4df5-840d-ce34b64be157",
   "metadata": {},
   "outputs": [],
   "source": [
    "number1=100.25"
   ]
  },
  {
   "cell_type": "markdown",
   "id": "3b7f7274-6ee2-43ab-b3c2-31e24352852a",
   "metadata": {},
   "source": [
    "***float***"
   ]
  },
  {
   "cell_type": "code",
   "execution_count": 4,
   "id": "c6755191-21f0-4b2f-a517-91b87c3bff06",
   "metadata": {},
   "outputs": [
    {
     "data": {
      "text/plain": [
       "float"
      ]
     },
     "execution_count": 4,
     "metadata": {},
     "output_type": "execute_result"
    }
   ],
   "source": [
    "number1=100.25\n",
    "type(number1)"
   ]
  },
  {
   "cell_type": "code",
   "execution_count": 5,
   "id": "a52754ba-51e8-4288-87d4-1bd39f9b74fc",
   "metadata": {},
   "outputs": [
    {
     "name": "stdout",
     "output_type": "stream",
     "text": [
      "100.0\n",
      "1000.0\n",
      "10000.0\n"
     ]
    }
   ],
   "source": [
    "print(10e1)  # 10*10\n",
    "print(10e2)  # 10*100\n",
    "print(10e3)  # 10*1000"
   ]
  },
  {
   "cell_type": "code",
   "execution_count": 7,
   "id": "4769e745-1c2a-4465-986d-b4a33b437c28",
   "metadata": {},
   "outputs": [
    {
     "name": "stdout",
     "output_type": "stream",
     "text": [
      "1.0\n",
      "0.1\n",
      "0.01\n"
     ]
    }
   ],
   "source": [
    "print(10e-1) # 10/10\n",
    "print(10e-2) # 10/100\n",
    "print(10e-3) # 10/1000\n"
   ]
  },
  {
   "cell_type": "code",
   "execution_count": 9,
   "id": "c0072fb0-4aad-4612-b66c-ae0e5d40cc79",
   "metadata": {},
   "outputs": [
    {
     "data": {
      "text/plain": [
       "-0.000191946214"
      ]
     },
     "execution_count": 9,
     "metadata": {},
     "output_type": "execute_result"
    }
   ],
   "source": [
    "-1.91946214e-4"
   ]
  },
  {
   "cell_type": "code",
   "execution_count": 10,
   "id": "a9acdd77-dd72-439a-942f-5d0a839b694e",
   "metadata": {},
   "outputs": [
    {
     "name": "stdout",
     "output_type": "stream",
     "text": [
      "100.0\n",
      "1000.0\n",
      "10000.0\n"
     ]
    }
   ],
   "source": [
    "print(10e+1) \n",
    "print(10e+2) \n",
    "print(10e+3) "
   ]
  },
  {
   "cell_type": "code",
   "execution_count": 11,
   "id": "110de91f-96b9-4874-b893-57c1d2081df9",
   "metadata": {},
   "outputs": [
    {
     "data": {
      "text/plain": [
       "True"
      ]
     },
     "execution_count": 11,
     "metadata": {},
     "output_type": "execute_result"
    }
   ],
   "source": [
    "10e+1==10e1"
   ]
  },
  {
   "cell_type": "code",
   "execution_count": 12,
   "id": "7c304218-846c-416b-aaed-101930bbb629",
   "metadata": {},
   "outputs": [
    {
     "data": {
      "text/plain": [
       "False"
      ]
     },
     "execution_count": 12,
     "metadata": {},
     "output_type": "execute_result"
    }
   ],
   "source": [
    "10e+1==10e2 "
   ]
  },
  {
   "cell_type": "code",
   "execution_count": 13,
   "id": "67767a77-ea13-4c87-a8c7-5d1577e25ed1",
   "metadata": {},
   "outputs": [
    {
     "data": {
      "text/plain": [
       "(1.0, 100.0, 100.0)"
      ]
     },
     "execution_count": 13,
     "metadata": {},
     "output_type": "execute_result"
    }
   ],
   "source": [
    "10e-1,10e+1,10e1"
   ]
  },
  {
   "cell_type": "code",
   "execution_count": 16,
   "id": "551cbc14-104d-4425-b9eb-1bbf2682c44a",
   "metadata": {},
   "outputs": [],
   "source": [
    "omkar=200"
   ]
  },
  {
   "cell_type": "code",
   "execution_count": 15,
   "id": "0c303a94-de9f-4ab5-85ff-c1fc31883677",
   "metadata": {
    "scrolled": true
   },
   "outputs": [
    {
     "ename": "NameError",
     "evalue": "name 'omkaaaar' is not defined",
     "output_type": "error",
     "traceback": [
      "\u001b[1;31m---------------------------------------------------------------------------\u001b[0m",
      "\u001b[1;31mNameError\u001b[0m                                 Traceback (most recent call last)",
      "Cell \u001b[1;32mIn[15], line 1\u001b[0m\n\u001b[1;32m----> 1\u001b[0m omkaaaar\n",
      "\u001b[1;31mNameError\u001b[0m: name 'omkaaaar' is not defined"
     ]
    }
   ],
   "source": [
    "omkaaaar"
   ]
  },
  {
   "cell_type": "code",
   "execution_count": 17,
   "id": "4eec5976-86f8-47e7-9b13-8925ec7cf357",
   "metadata": {},
   "outputs": [],
   "source": [
    "OMKAR=500"
   ]
  },
  {
   "cell_type": "code",
   "execution_count": 18,
   "id": "cc2261fb-81a3-4989-97e3-14fb09658fc0",
   "metadata": {},
   "outputs": [
    {
     "data": {
      "text/plain": [
       "500"
      ]
     },
     "execution_count": 18,
     "metadata": {},
     "output_type": "execute_result"
    }
   ],
   "source": [
    "OMKAR"
   ]
  },
  {
   "cell_type": "code",
   "execution_count": 19,
   "id": "5b636521-f72d-4b1a-a4f3-85841478ded3",
   "metadata": {},
   "outputs": [
    {
     "data": {
      "text/plain": [
       "str"
      ]
     },
     "execution_count": 19,
     "metadata": {},
     "output_type": "execute_result"
    }
   ],
   "source": [
    "city='Hyderabad'\n",
    "type(city)"
   ]
  },
  {
   "cell_type": "code",
   "execution_count": 22,
   "id": "6768995a-828c-47ca-b440-eee28cb42060",
   "metadata": {},
   "outputs": [
    {
     "data": {
      "text/plain": [
       "'Mumbai'"
      ]
     },
     "execution_count": 22,
     "metadata": {},
     "output_type": "execute_result"
    }
   ],
   "source": [
    "\"Mumbai\""
   ]
  },
  {
   "cell_type": "code",
   "execution_count": 23,
   "id": "ea82ceb0-76b0-4d2a-b808-d7cb4a9f5f01",
   "metadata": {},
   "outputs": [
    {
     "name": "stdout",
     "output_type": "stream",
     "text": [
      "Mumbai\n"
     ]
    }
   ],
   "source": [
    "print('Mumbai')"
   ]
  },
  {
   "cell_type": "code",
   "execution_count": 24,
   "id": "4e68d561-bc04-4f70-8f46-b496895de344",
   "metadata": {},
   "outputs": [
    {
     "data": {
      "text/plain": [
       "'Chennai'"
      ]
     },
     "execution_count": 24,
     "metadata": {},
     "output_type": "execute_result"
    }
   ],
   "source": [
    "\"Chennai\""
   ]
  },
  {
   "cell_type": "code",
   "execution_count": 25,
   "id": "7806bdaa-f11f-477f-9428-d45bc1bcbe42",
   "metadata": {},
   "outputs": [
    {
     "name": "stdout",
     "output_type": "stream",
     "text": [
      "Chennai\n"
     ]
    }
   ],
   "source": [
    "print('Chennai')"
   ]
  },
  {
   "cell_type": "code",
   "execution_count": 26,
   "id": "d031ff49-1248-4eaa-a888-bf6c66b8ca69",
   "metadata": {},
   "outputs": [
    {
     "name": "stdout",
     "output_type": "stream",
     "text": [
      "hello\n"
     ]
    }
   ],
   "source": [
    "print('hello')"
   ]
  },
  {
   "cell_type": "code",
   "execution_count": 27,
   "id": "765438e1-30d3-43fc-9a04-7575ee73ba66",
   "metadata": {},
   "outputs": [
    {
     "name": "stdout",
     "output_type": "stream",
     "text": [
      " hello\n"
     ]
    }
   ],
   "source": [
    "print(' hello')"
   ]
  },
  {
   "cell_type": "code",
   "execution_count": 28,
   "id": "de0f9c5b-6cac-4daa-abf6-1954bb8ed9af",
   "metadata": {},
   "outputs": [
    {
     "name": "stdout",
     "output_type": "stream",
     "text": [
      "hello   \n"
     ]
    }
   ],
   "source": [
    "print('hello   ')\n"
   ]
  },
  {
   "cell_type": "code",
   "execution_count": 29,
   "id": "6d8296c7-5d67-44dd-95af-925506334cbc",
   "metadata": {},
   "outputs": [
    {
     "data": {
      "text/plain": [
       "'hello   '"
      ]
     },
     "execution_count": 29,
     "metadata": {},
     "output_type": "execute_result"
    }
   ],
   "source": [
    "'hello   '"
   ]
  },
  {
   "cell_type": "code",
   "execution_count": 30,
   "id": "3f3ebce0-69fc-4ef8-97d4-0784c2227cea",
   "metadata": {},
   "outputs": [
    {
     "data": {
      "text/plain": [
       "5"
      ]
     },
     "execution_count": 30,
     "metadata": {},
     "output_type": "execute_result"
    }
   ],
   "source": [
    "len('hello')"
   ]
  },
  {
   "cell_type": "code",
   "execution_count": 31,
   "id": "814aab17-cce7-4cb3-8655-29c2e82fd264",
   "metadata": {},
   "outputs": [
    {
     "ename": "SyntaxError",
     "evalue": "unterminated string literal (detected at line 1) (4261755221.py, line 1)",
     "output_type": "error",
     "traceback": [
      "\u001b[1;36m  Cell \u001b[1;32mIn[31], line 1\u001b[1;36m\u001b[0m\n\u001b[1;33m    \"Benagluru'\u001b[0m\n\u001b[1;37m    ^\u001b[0m\n\u001b[1;31mSyntaxError\u001b[0m\u001b[1;31m:\u001b[0m unterminated string literal (detected at line 1)\n"
     ]
    }
   ],
   "source": [
    "\"Benagluru'"
   ]
  },
  {
   "cell_type": "code",
   "execution_count": 32,
   "id": "83edd23b-c443-4347-b776-d6733ac4692e",
   "metadata": {},
   "outputs": [
    {
     "data": {
      "text/plain": [
       "'Benagluru'"
      ]
     },
     "execution_count": 32,
     "metadata": {},
     "output_type": "execute_result"
    }
   ],
   "source": [
    "\"Benagluru\""
   ]
  },
  {
   "cell_type": "code",
   "execution_count": 2,
   "id": "d46ae859-1d84-4c9a-a5bd-b2645fcb776c",
   "metadata": {},
   "outputs": [
    {
     "data": {
      "text/plain": [
       "16"
      ]
     },
     "execution_count": 2,
     "metadata": {},
     "output_type": "execute_result"
    }
   ],
   "source": [
    "len(' hello          ')\n"
   ]
  },
  {
   "cell_type": "code",
   "execution_count": null,
   "id": "b7ca3484-1b99-4778-844d-d74345a3f265",
   "metadata": {},
   "outputs": [],
   "source": [
    " "
   ]
  },
  {
   "cell_type": "markdown",
   "id": "b99cca34-162c-42b0-b2a8-d2281f7de675",
   "metadata": {},
   "source": [
    "**Name not found error**\n",
    "\n",
    "- Name means variable is not written before\n",
    "\n",
    "- And we are trying to use that\n",
    "\n",
    "- Check the variable name have you written before or not"
   ]
  },
  {
   "cell_type": "code",
   "execution_count": 34,
   "id": "50217420-5ff6-4ea1-af2a-60b110b620e6",
   "metadata": {},
   "outputs": [
    {
     "data": {
      "text/plain": [
       "('python', 'python')"
      ]
     },
     "execution_count": 34,
     "metadata": {},
     "output_type": "execute_result"
    }
   ],
   "source": [
    "str1='python'\n",
    "str2=\"python\"\n",
    "str1,str2     "
   ]
  },
  {
   "cell_type": "code",
   "execution_count": 35,
   "id": "53f7f2d9-53d5-443f-862a-b6cef00959fd",
   "metadata": {},
   "outputs": [
    {
     "name": "stdout",
     "output_type": "stream",
     "text": [
      "python\n",
      "python\n"
     ]
    }
   ],
   "source": [
    "str1='python'\n",
    "str2=\"python\"\n",
    "print(str1)\n",
    "print(str2)"
   ]
  },
  {
   "cell_type": "code",
   "execution_count": 36,
   "id": "3aa03cc1-ffb4-4531-a231-44785c301208",
   "metadata": {},
   "outputs": [
    {
     "name": "stdout",
     "output_type": "stream",
     "text": [
      "Im studying at \"NareshIT\"\n"
     ]
    }
   ],
   "source": [
    "print('Im studying at \"NareshIT\"') # which word you want to keep highlight  add \"\""
   ]
  },
  {
   "cell_type": "code",
   "execution_count": 37,
   "id": "334abd10-95d4-4175-a6aa-f6491b2e2973",
   "metadata": {},
   "outputs": [
    {
     "ename": "SyntaxError",
     "evalue": "invalid syntax. Perhaps you forgot a comma? (2709408773.py, line 1)",
     "output_type": "error",
     "traceback": [
      "\u001b[1;36m  Cell \u001b[1;32mIn[37], line 1\u001b[1;36m\u001b[0m\n\u001b[1;33m    print('Im studying at 'NareshIT'')\u001b[0m\n\u001b[1;37m          ^\u001b[0m\n\u001b[1;31mSyntaxError\u001b[0m\u001b[1;31m:\u001b[0m invalid syntax. Perhaps you forgot a comma?\n"
     ]
    }
   ],
   "source": [
    "print('Im studying at 'NareshIT'')5"
   ]
  },
  {
   "cell_type": "code",
   "execution_count": 38,
   "id": "2e011a7e-4182-4e10-ad8b-75e5a09c3db7",
   "metadata": {},
   "outputs": [
    {
     "name": "stdout",
     "output_type": "stream",
     "text": [
      "Im studying at 'NareshIT'\n"
     ]
    }
   ],
   "source": [
    "print(\"Im studying at 'NareshIT'\")"
   ]
  },
  {
   "cell_type": "code",
   "execution_count": 39,
   "id": "3369a00f-77f9-449a-994c-abc5eccdfd66",
   "metadata": {},
   "outputs": [
    {
     "ename": "SyntaxError",
     "evalue": "invalid syntax. Perhaps you forgot a comma? (1316391732.py, line 1)",
     "output_type": "error",
     "traceback": [
      "\u001b[1;36m  Cell \u001b[1;32mIn[39], line 1\u001b[1;36m\u001b[0m\n\u001b[1;33m    print(\"Im studying at \"NareshIT\"\")\u001b[0m\n\u001b[1;37m          ^\u001b[0m\n\u001b[1;31mSyntaxError\u001b[0m\u001b[1;31m:\u001b[0m invalid syntax. Perhaps you forgot a comma?\n"
     ]
    }
   ],
   "source": [
    "print(\"Im studying at \"NareshIT\"\")"
   ]
  },
  {
   "cell_type": "markdown",
   "id": "c51b38a7-b55c-4df4-b75a-49babb874348",
   "metadata": {},
   "source": [
    "**Note**\n",
    "\n",
    "- Entire string in single quotes\n",
    "\n",
    "- Highlite the word in double quote vice versa"
   ]
  },
  {
   "cell_type": "markdown",
   "id": "2f6bcb86-2bec-41a7-9c7c-375113b96689",
   "metadata": {},
   "source": [
    "**triple quotes**"
   ]
  },
  {
   "cell_type": "code",
   "execution_count": 40,
   "id": "84995c56-e672-45c1-aa28-70abcf438279",
   "metadata": {},
   "outputs": [
    {
     "data": {
      "text/plain": [
       "'My name is python\\nIm 10 years old\\nI came from Hyderabad'"
      ]
     },
     "execution_count": 40,
     "metadata": {},
     "output_type": "execute_result"
    }
   ],
   "source": [
    "\"\"\"My name is python\n",
    "Im 10 years old\n",
    "I came from Hyderabad\"\"\" "
   ]
  },
  {
   "cell_type": "code",
   "execution_count": 41,
   "id": "1e7ff371-281c-4cf6-bcfd-180ed5685fa8",
   "metadata": {},
   "outputs": [
    {
     "name": "stdout",
     "output_type": "stream",
     "text": [
      "My name is python\n",
      "Im 10 years old\n",
      "I came from Hyderabad\n"
     ]
    }
   ],
   "source": [
    "print(\"\"\"My name is python\n",
    "Im 10 years old\n",
    "I came from Hyderabad\"\"\") "
   ]
  },
  {
   "cell_type": "markdown",
   "id": "b2020142-109e-4f8f-b31b-b6ae27d20eda",
   "metadata": {},
   "source": [
    "**Doc string**\n",
    "\n",
    "- We will write the information about python file\n",
    "\n",
    "- We will write the information about functions\n",
    "\n",
    "- To make user familier with our python code\n",
    "\n",
    "- We will use triple quotes \n",
    "\n",
    "- It is nothing but a Multiline comments\n",
    "\n",
    "- Never use triple quotes in a coding\n",
    "\n",
    "- Triple quoutes means convey the inforamtion is called as **Doc string**"
   ]
  },
  {
   "cell_type": "code",
   "execution_count": 42,
   "id": "5fd56abb-5b2e-4f22-a0bb-c88e9e573c3f",
   "metadata": {},
   "outputs": [],
   "source": [
    "import os"
   ]
  },
  {
   "cell_type": "code",
   "execution_count": 43,
   "id": "57c75cd6-a8c1-44b9-a0d4-54f75d2b789c",
   "metadata": {},
   "outputs": [
    {
     "data": {
      "text/plain": [
       "' hello '"
      ]
     },
     "execution_count": 43,
     "metadata": {},
     "output_type": "execute_result"
    }
   ],
   "source": [
    "''' hello ''' \n",
    "\"hello\"\n",
    "'hello'\n",
    "\"\"\" hello \"\"\""
   ]
  },
  {
   "cell_type": "code",
   "execution_count": 2,
   "id": "fbc13eb4-030f-4946-9dcc-8fc0029c49d4",
   "metadata": {},
   "outputs": [
    {
     "data": {
      "text/plain": [
       "'C:\\\\Users\\\\admin\\\\Documents\\\\NareshIT\\\\python_sessions'"
      ]
     },
     "execution_count": 2,
     "metadata": {},
     "output_type": "execute_result"
    }
   ],
   "source": [
    "import os\n",
    "os.getcwd()   \n",
    "# take your cursor inside the bracket\n",
    "# do shift+tab"
   ]
  },
  {
   "cell_type": "code",
   "execution_count": 45,
   "id": "4ef55a17-1cd7-4058-bd7f-bb48862c8591",
   "metadata": {},
   "outputs": [],
   "source": [
    "# Return a unicode string representing the current working directory( where is python code file)"
   ]
  },
  {
   "cell_type": "code",
   "execution_count": 1,
   "id": "da80b498-c22e-41f2-ab26-73005a90c6da",
   "metadata": {},
   "outputs": [
    {
     "data": {
      "text/plain": [
       "0.14235303488827766"
      ]
     },
     "execution_count": 1,
     "metadata": {},
     "output_type": "execute_result"
    }
   ],
   "source": [
    "import random\n",
    "random.random()"
   ]
  },
  {
   "cell_type": "code",
   "execution_count": null,
   "id": "8ca5c8f2-cd22-401f-9535-a6035decf8d5",
   "metadata": {},
   "outputs": [],
   "source": [
    "random() -> x in the interval [0, 1)"
   ]
  },
  {
   "cell_type": "code",
   "execution_count": 4,
   "id": "9ac4ed6b-955a-479d-9283-e084e6d4dd6d",
   "metadata": {},
   "outputs": [
    {
     "ename": "TypeError",
     "evalue": "pow expected 2 arguments, got 0",
     "output_type": "error",
     "traceback": [
      "\u001b[1;31m---------------------------------------------------------------------------\u001b[0m",
      "\u001b[1;31mTypeError\u001b[0m                                 Traceback (most recent call last)",
      "Cell \u001b[1;32mIn[4], line 2\u001b[0m\n\u001b[0;32m      1\u001b[0m \u001b[38;5;28;01mimport\u001b[39;00m\u001b[38;5;250m \u001b[39m\u001b[38;5;21;01mmath\u001b[39;00m\n\u001b[1;32m----> 2\u001b[0m math\u001b[38;5;241m.\u001b[39mpow()\n",
      "\u001b[1;31mTypeError\u001b[0m: pow expected 2 arguments, got 0"
     ]
    }
   ],
   "source": [
    "import math\n",
    "math.pow   #function is miss ()"
   ]
  },
  {
   "cell_type": "code",
   "execution_count": 6,
   "id": "7ff716b7-26a4-42b3-93fa-8a2ca16cba83",
   "metadata": {},
   "outputs": [
    {
     "data": {
      "text/plain": [
       "8.0"
      ]
     },
     "execution_count": 6,
     "metadata": {},
     "output_type": "execute_result"
    }
   ],
   "source": [
    "import math\n",
    "math.pow(2,3)\n",
    "# if you miss bralets :function()\n",
    "# sgift+tab :dict string conveying the information\n",
    "#2**3"
   ]
  },
  {
   "cell_type": "markdown",
   "id": "629123ef-98b9-4ef6-8ae0-50c59bdb75c5",
   "metadata": {},
   "source": [
    "**Bollean**"
   ]
  },
  {
   "cell_type": "markdown",
   "id": "87a60064-6ce3-466f-941c-d586a26e9db8",
   "metadata": {},
   "source": [
    "- when u ask a qn to a Machine\n",
    "    - True means yes i.e 1\n",
    "    - True means ON\n",
    "    - False is no i.e 0\n",
    "    - False means Off"
   ]
  },
  {
   "cell_type": "code",
   "execution_count": 8,
   "id": "f5df54c8-f254-430c-b47a-94268be03f3e",
   "metadata": {},
   "outputs": [
    {
     "data": {
      "text/plain": [
       "bool"
      ]
     },
     "execution_count": 8,
     "metadata": {},
     "output_type": "execute_result"
    }
   ],
   "source": [
    "n1= True\n",
    "type(n1)"
   ]
  },
  {
   "cell_type": "code",
   "execution_count": 9,
   "id": "1a30f25d-a811-43b7-b588-c5f7a55b7109",
   "metadata": {},
   "outputs": [
    {
     "data": {
      "text/plain": [
       "10.5"
      ]
     },
     "execution_count": 9,
     "metadata": {},
     "output_type": "execute_result"
    }
   ],
   "source": [
    "true=\"True\"  # true variable   data type isstring\n",
    "true=True    # boolean\n",
    "true=10      # int\n",
    "true=10.5    # float\n",
    "false=true   #\n",
    "false"
   ]
  },
  {
   "cell_type": "code",
   "execution_count": 15,
   "id": "de2e0a45-0713-4ac3-bf7d-a2951d088a0b",
   "metadata": {},
   "outputs": [
    {
     "data": {
      "text/plain": [
       "10"
      ]
     },
     "execution_count": 15,
     "metadata": {},
     "output_type": "execute_result"
    }
   ],
   "source": [
    "true=\"True\"  # true variable  string\n",
    "true=True    # boolean\n",
    "true=10      # int\n",
    "false=true   #\n",
    "false"
   ]
  },
  {
   "cell_type": "code",
   "execution_count": 16,
   "id": "5f58c72b-b363-4951-a1bd-71b6b963d1e7",
   "metadata": {},
   "outputs": [
    {
     "data": {
      "text/plain": [
       "True"
      ]
     },
     "execution_count": 16,
     "metadata": {},
     "output_type": "execute_result"
    }
   ],
   "source": [
    "true=\"True\"  # true variable  string\n",
    "true=True    # boolean\n",
    "false=true   #\n",
    "false"
   ]
  },
  {
   "cell_type": "code",
   "execution_count": 17,
   "id": "82c17aac-028f-4ecb-8ef6-6c18dfed1946",
   "metadata": {},
   "outputs": [
    {
     "data": {
      "text/plain": [
       "'True'"
      ]
     },
     "execution_count": 17,
     "metadata": {},
     "output_type": "execute_result"
    }
   ],
   "source": [
    "true=\"True\"  # true variable  string\n",
    "false=true   #\n",
    "false"
   ]
  },
  {
   "cell_type": "markdown",
   "id": "292d8bd7-2815-483e-b759-ab4f4782db9c",
   "metadata": {},
   "source": [
    "\n",
    "**List**\n",
    "\n",
    "- array of elements represents in a square brackets"
   ]
  },
  {
   "cell_type": "code",
   "execution_count": 18,
   "id": "8f0cdcf4-551e-4fbc-ac79-65d21cada9ed",
   "metadata": {},
   "outputs": [
    {
     "data": {
      "text/plain": [
       "list"
      ]
     },
     "execution_count": 18,
     "metadata": {},
     "output_type": "execute_result"
    }
   ],
   "source": [
    "l=[10,20,30,40]\n",
    "type(l)"
   ]
  },
  {
   "cell_type": "code",
   "execution_count": 2,
   "id": "aeddd5e5-9606-4537-ab69-1b044bb257db",
   "metadata": {},
   "outputs": [
    {
     "name": "stdout",
     "output_type": "stream",
     "text": [
      "['Ramesh', 'Suresh', 'Sathish']\n",
      "[10, 'Ramesh', 10.5, True]\n",
      "[10, 10, 10]\n",
      "['Apple', [10, 20, 30]]\n"
     ]
    }
   ],
   "source": [
    "l1=['Ramesh','Suresh','Sathish']\n",
    "l2=[10,'Ramesh',10.5,True]\n",
    "l3=[10,10,10]\n",
    "l4=['Apple',[10,20,30]]\n",
    "print(l1)\n",
    "print(l2)\n",
    "print(l3)\n",
    "print(l4)"
   ]
  },
  {
   "cell_type": "code",
   "execution_count": 20,
   "id": "7e7c0722-aa7a-4be8-a5de-f7c609101fba",
   "metadata": {},
   "outputs": [
    {
     "data": {
      "text/plain": [
       "tuple"
      ]
     },
     "execution_count": 20,
     "metadata": {},
     "output_type": "execute_result"
    }
   ],
   "source": [
    "l=(10,20,30,40) #() tuple will [] list \n",
    "type(l)"
   ]
  },
  {
   "cell_type": "code",
   "execution_count": 21,
   "id": "cbb1d481-9fff-438e-ac4b-2ef0c64a6257",
   "metadata": {},
   "outputs": [
    {
     "name": "stdout",
     "output_type": "stream",
     "text": [
      "('Ramesh', 'Suresh', 'Sathish')\n",
      "(10, 'Ramesh', 10.5, True)\n",
      "(10, 10, 10)\n",
      "('Apple', [10, 20, 30])\n"
     ]
    }
   ],
   "source": [
    "t1=('Ramesh','Suresh','Sathish')\n",
    "t2=(10,'Ramesh',10.5,True)\n",
    "t3=(10,10,10)\n",
    "t4=('Apple',[10,20,30])\n",
    "print(t1)\n",
    "print(t2)\n",
    "print(t3)\n",
    "print(t4)"
   ]
  },
  {
   "cell_type": "markdown",
   "id": "a82cb3c4-2085-4976-9a8a-74aaa2783f30",
   "metadata": {},
   "source": [
    "**Dictionary**  "
   ]
  },
  {
   "cell_type": "code",
   "execution_count": null,
   "id": "3c5395e5-e50d-4234-a5ea-9d42b23ef4b9",
   "metadata": {},
   "outputs": [],
   "source": [
    "[] : list\n",
    "() : tuple\n",
    "{} : ......?"
   ]
  },
  {
   "cell_type": "code",
   "execution_count": 24,
   "id": "7ea22cbf-797e-490a-939b-0e2121ecf03f",
   "metadata": {},
   "outputs": [
    {
     "data": {
      "text/plain": [
       "set"
      ]
     },
     "execution_count": 24,
     "metadata": {},
     "output_type": "execute_result"
    }
   ],
   "source": [
    "n1={10,20,30}\n",
    "type(n1)"
   ]
  },
  {
   "cell_type": "markdown",
   "id": "d8417a92-02b1-45cc-b405-cae178aaafb9",
   "metadata": {},
   "source": [
    "- Its a Pair\n",
    "\n",
    "- key and value pair\n",
    "\n",
    "- seperated by :"
   ]
  },
  {
   "cell_type": "code",
   "execution_count": 25,
   "id": "35ea06c1-eb6b-42d2-a099-2f463edf29bd",
   "metadata": {},
   "outputs": [],
   "source": [
    "d1={'wife':'husband'} # dictinary\n",
    "s1={'wife','husband'} # set\n",
    "d2={'key':'value'}  # dictionary\n"
   ]
  },
  {
   "cell_type": "code",
   "execution_count": null,
   "id": "0aa92df3-1782-4b40-810a-7ea99689855e",
   "metadata": {},
   "outputs": [],
   "source": [
    " \n",
    "\n",
    "\n",
    "\n",
    "\n",
    "\n",
    "\n",
    "\n",
    "\n",
    "- "
   ]
  }
 ],
 "metadata": {
  "kernelspec": {
   "display_name": "Python [conda env:base] *",
   "language": "python",
   "name": "conda-base-py"
  },
  "language_info": {
   "codemirror_mode": {
    "name": "ipython",
    "version": 3
   },
   "file_extension": ".py",
   "mimetype": "text/x-python",
   "name": "python",
   "nbconvert_exporter": "python",
   "pygments_lexer": "ipython3",
   "version": "3.13.5"
  }
 },
 "nbformat": 4,
 "nbformat_minor": 5
}
