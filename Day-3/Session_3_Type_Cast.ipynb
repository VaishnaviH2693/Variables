{
 "cells": [
  {
   "cell_type": "code",
   "execution_count": 2,
   "id": "bdae9b86-148d-4fe5-ac18-3bfc574e32d7",
   "metadata": {},
   "outputs": [],
   "source": [
    "number1 = 10  # int\n",
    "number2=10.5  # float\n",
    "name='NareshIT' # string : str\n",
    "value=True      # boolean : bool\n",
    "############################################\n",
    "fruites=['Apple','Banana','cherry'] # list\n",
    "names=('Ramesh','Suresh','Sathish') # tuple\n",
    "age={20,22,24}  # set\n",
    "data={'Ramesh':20,'Suresh':22,'Sathish':24} # dictionary: dict"
   ]
  },
  {
   "cell_type": "markdown",
   "id": "8d683826-f2af-4afd-8f82-fd978326ac99",
   "metadata": {},
   "source": [
    "#  Type cast:\n",
    "\n",
    "- Convert one data type to another data type"
   ]
  },
  {
   "cell_type": "code",
   "execution_count": 3,
   "id": "20af134c-8cc4-4a6d-8846-9f086364d6aa",
   "metadata": {},
   "outputs": [
    {
     "data": {
      "text/plain": [
       "'100200'"
      ]
     },
     "execution_count": 3,
     "metadata": {},
     "output_type": "execute_result"
    }
   ],
   "source": [
    "n1='100'  # 100\n",
    "n2='200'  # 200\n",
    "n1+n2     # 100+200=300"
   ]
  },
  {
   "cell_type": "code",
   "execution_count": null,
   "id": "673a1d6d-736e-462a-9af0-43caeb96f0f4",
   "metadata": {},
   "outputs": [],
   "source": []
  },
  {
   "cell_type": "markdown",
   "id": "69a5bb21-fe62-4942-a65f-8f9b9b254bca",
   "metadata": {},
   "source": [
    "**case-1**"
   ]
  },
  {
   "cell_type": "markdown",
   "id": "2821cee9-e999-4de7-b99e-fbe46e2d5eb3",
   "metadata": {},
   "source": [
    " - int to float       # ans will come in decimal(.)\n",
    "- int to str          # ans will come in red\n",
    "- int to bool         # ans will true or false"
   ]
  },
  {
   "cell_type": "code",
   "execution_count": 21,
   "id": "ea86d47f-6875-4819-8c06-0c3b3f5086b1",
   "metadata": {},
   "outputs": [
    {
     "data": {
      "text/plain": [
       "(10.0, '10', True)"
      ]
     },
     "execution_count": 21,
     "metadata": {},
     "output_type": "execute_result"
    }
   ],
   "source": [
    "number=10\n",
    "# int to float\n",
    "float(number),str(number),bool(number) #MAIN"
   ]
  },
  {
   "cell_type": "code",
   "execution_count": 23,
   "id": "8512b859-fecc-4902-9a90-70d12a3c9121",
   "metadata": {},
   "outputs": [
    {
     "data": {
      "text/plain": [
       "10.0"
      ]
     },
     "execution_count": 23,
     "metadata": {},
     "output_type": "execute_result"
    }
   ],
   "source": [
    "number=10\n",
    "#int to float\n",
    "float(number)# take one bye one also "
   ]
  },
  {
   "cell_type": "code",
   "execution_count": 25,
   "id": "c7c54088-570d-4fd1-8629-3321d36db344",
   "metadata": {},
   "outputs": [
    {
     "data": {
      "text/plain": [
       "'10'"
      ]
     },
     "execution_count": 25,
     "metadata": {},
     "output_type": "execute_result"
    }
   ],
   "source": [
    "number=10\n",
    "#int to float\n",
    "str(number)"
   ]
  },
  {
   "cell_type": "code",
   "execution_count": 32,
   "id": "f75223db-6467-429d-b30c-debdff77ab51",
   "metadata": {},
   "outputs": [
    {
     "data": {
      "text/plain": [
       "True"
      ]
     },
     "execution_count": 32,
     "metadata": {},
     "output_type": "execute_result"
    }
   ],
   "source": [
    "number=10\n",
    "# int to float\n",
    "bool(number)"
   ]
  },
  {
   "cell_type": "code",
   "execution_count": 9,
   "id": "1211351e-5e16-4edc-bc50-f1327bed771d",
   "metadata": {},
   "outputs": [
    {
     "data": {
      "text/plain": [
       "(-10.0, '-10', True)"
      ]
     },
     "execution_count": 9,
     "metadata": {},
     "output_type": "execute_result"
    }
   ],
   "source": [
    "number=-10\n",
    "# int to float\n",
    "float(number),str(number),bool(number)"
   ]
  },
  {
   "cell_type": "code",
   "execution_count": 34,
   "id": "633de132-ed7c-4b03-9aba-51ba463ed210",
   "metadata": {},
   "outputs": [
    {
     "data": {
      "text/plain": [
       "(-10.0, '-10', True)"
      ]
     },
     "execution_count": 34,
     "metadata": {},
     "output_type": "execute_result"
    }
   ],
   "source": [
    "float(-10),str(-10),bool(-10)\n",
    "# -10.0      '-10'    True"
   ]
  },
  {
   "cell_type": "code",
   "execution_count": 35,
   "id": "33c36524-5f4a-48df-b8df-bbcbef3085f6",
   "metadata": {},
   "outputs": [
    {
     "data": {
      "text/plain": [
       "(0.0, '0', False)"
      ]
     },
     "execution_count": 35,
     "metadata": {},
     "output_type": "execute_result"
    }
   ],
   "source": [
    "float(0),str(0),bool(0) # 0 will be false\n",
    "# 0.0     '0'    False"
   ]
  },
  {
   "cell_type": "markdown",
   "id": "a470c38f-cc41-4251-ba90-819c252c71ab",
   "metadata": {},
   "source": [
    "**Float to other datatypes**"
   ]
  },
  {
   "cell_type": "code",
   "execution_count": 16,
   "id": "a3793a91-8baf-45df-ae23-c22292c76182",
   "metadata": {},
   "outputs": [
    {
     "name": "stdout",
     "output_type": "stream",
     "text": [
      "10\n",
      "10.5\n",
      "True\n"
     ]
    }
   ],
   "source": [
    "number1=10.5\n",
    "print(int(number1)) #\n",
    "print(str(number1)) # '10.5' # print not show ''\n",
    "print(bool(number1)) # False"
   ]
  },
  {
   "cell_type": "code",
   "execution_count": 27,
   "id": "9daae3c0-8b6e-4925-a74d-6c12b3fccdbf",
   "metadata": {},
   "outputs": [
    {
     "data": {
      "text/plain": [
       "(10, '10.5', True)"
      ]
     },
     "execution_count": 27,
     "metadata": {},
     "output_type": "execute_result"
    }
   ],
   "source": [
    "number1=10.5\n",
    "int(number1),str(number1),bool(number1) #preffere this"
   ]
  },
  {
   "cell_type": "code",
   "execution_count": 28,
   "id": "2e6a9e4e-42d3-4e61-a9ef-284cbb8247ac",
   "metadata": {},
   "outputs": [
    {
     "data": {
      "text/plain": [
       "(-10, '-10.5', True)"
      ]
     },
     "execution_count": 28,
     "metadata": {},
     "output_type": "execute_result"
    }
   ],
   "source": [
    "int(-10.5),str(-10.5),bool(-10.5)"
   ]
  },
  {
   "cell_type": "code",
   "execution_count": 37,
   "id": "149fc460-59c2-4d71-82aa-6110f80d0918",
   "metadata": {},
   "outputs": [
    {
     "data": {
      "text/plain": [
       "(0, '0.0', False)"
      ]
     },
     "execution_count": 37,
     "metadata": {},
     "output_type": "execute_result"
    }
   ],
   "source": [
    "int(0.0),str(0.0),bool(0.00000)  "
   ]
  },
  {
   "cell_type": "code",
   "execution_count": null,
   "id": "f3312d0c-3e0f-4e95-a914-8b1b68f5fb49",
   "metadata": {},
   "outputs": [],
   "source": [
    "0 0.0  False OFF value o or nothing\n",
    "       True  ON value is avaliable +/-\n",
    "\n",
    "10  On  T\n",
    "-10 On  T\n",
    "0   off  f "
   ]
  },
  {
   "cell_type": "markdown",
   "id": "8b359d95-8845-4bab-9b26-c665e48a1f1b",
   "metadata": {},
   "source": [
    "**String to other data types**"
   ]
  },
  {
   "cell_type": "code",
   "execution_count": null,
   "id": "932fbcc6-cc59-4ceb-9901-39901d26b023",
   "metadata": {},
   "outputs": [],
   "source": [
    "s1='10'  # int float boolean\n",
    "s2='10.5'\n",
    "s3='apple'"
   ]
  },
  {
   "cell_type": "code",
   "execution_count": 38,
   "id": "51db147f-23d8-4e72-b8e2-28e03451b71e",
   "metadata": {},
   "outputs": [
    {
     "name": "stdout",
     "output_type": "stream",
     "text": [
      "10\n",
      "10.0\n",
      "True\n"
     ]
    }
   ],
   "source": [
    "print(int('10'))   # 10\n",
    "print(float('10')) # 10.0\n",
    "print(bool('10'))  # True"
   ]
  },
  {
   "cell_type": "code",
   "execution_count": 4,
   "id": "737458d9-e929-4edd-b9b1-7027e7eccbd2",
   "metadata": {},
   "outputs": [
    {
     "ename": "ValueError",
     "evalue": "invalid literal for int() with base 10: '10.5'",
     "output_type": "error",
     "traceback": [
      "\u001b[1;31m---------------------------------------------------------------------------\u001b[0m",
      "\u001b[1;31mValueError\u001b[0m                                Traceback (most recent call last)",
      "Cell \u001b[1;32mIn[4], line 1\u001b[0m\n\u001b[1;32m----> 1\u001b[0m \u001b[38;5;28mprint\u001b[39m(\u001b[38;5;28mint\u001b[39m(\u001b[38;5;124m\"\u001b[39m\u001b[38;5;124m10.5\u001b[39m\u001b[38;5;124m\"\u001b[39m))   \u001b[38;5;66;03m# 10\u001b[39;00m\n\u001b[0;32m      2\u001b[0m \u001b[38;5;28mprint\u001b[39m(\u001b[38;5;28mfloat\u001b[39m(\u001b[38;5;124m'\u001b[39m\u001b[38;5;124m10.5\u001b[39m\u001b[38;5;124m'\u001b[39m)) \u001b[38;5;66;03m# 10.0\u001b[39;00m\n\u001b[0;32m      3\u001b[0m \u001b[38;5;28mprint\u001b[39m(\u001b[38;5;28mbool\u001b[39m(\u001b[38;5;124m'\u001b[39m\u001b[38;5;124m10.5\u001b[39m\u001b[38;5;124m'\u001b[39m))\n",
      "\u001b[1;31mValueError\u001b[0m: invalid literal for int() with base 10: '10.5'"
     ]
    }
   ],
   "source": [
    "print(int(\"10.5\"))   # 10\n",
    "print(float('10.5')) # 10.0\n",
    "print(bool('10.5'))  # True\n"
   ]
  },
  {
   "cell_type": "code",
   "execution_count": 5,
   "id": "8d925cda-2b18-46ac-bade-c36aeb056fdc",
   "metadata": {},
   "outputs": [
    {
     "name": "stdout",
     "output_type": "stream",
     "text": [
      "10\n",
      "20\n",
      "100\n"
     ]
    },
    {
     "ename": "NameError",
     "evalue": "name 'Lenavo' is not defined",
     "output_type": "error",
     "traceback": [
      "\u001b[1;31m---------------------------------------------------------------------------\u001b[0m",
      "\u001b[1;31mNameError\u001b[0m                                 Traceback (most recent call last)",
      "Cell \u001b[1;32mIn[5], line 7\u001b[0m\n\u001b[0;32m      5\u001b[0m n4\u001b[38;5;241m=\u001b[39m\u001b[38;5;241m100\u001b[39m\n\u001b[0;32m      6\u001b[0m \u001b[38;5;28mprint\u001b[39m(n4)\n\u001b[1;32m----> 7\u001b[0m n3\u001b[38;5;241m=\u001b[39mLenavo\n\u001b[0;32m      8\u001b[0m n4\u001b[38;5;241m=\u001b[39m\u001b[38;5;241m100\u001b[39m\n\u001b[0;32m      9\u001b[0m n5\u001b[38;5;241m=\u001b[39m\u001b[38;5;241m600\u001b[39m\n",
      "\u001b[1;31mNameError\u001b[0m: name 'Lenavo' is not defined"
     ]
    }
   ],
   "source": [
    "n1=10\n",
    "print(n1)\n",
    "n2=20\n",
    "print(n2)\n",
    "n4=100\n",
    "print(n4)\n",
    "n3=Lenavo\n",
    "n4=100\n",
    "n5=600"
   ]
  },
  {
   "cell_type": "code",
   "execution_count": null,
   "id": "ce456a1a-2745-4852-931d-07fb0e082126",
   "metadata": {},
   "outputs": [],
   "source": [
    "int('10.5')  # error\n",
    "int('10')    # 10\n",
    "# generally 10 is a integer\n",
    "# but represented as a string \n",
    "# both are same family\n",
    "\n",
    "\n"
   ]
  },
  {
   "cell_type": "code",
   "execution_count": 51,
   "id": "f9ea03c1-6507-486b-b5f6-1c36ee7850b6",
   "metadata": {},
   "outputs": [
    {
     "data": {
      "text/plain": [
       "(10.5, 10)"
      ]
     },
     "execution_count": 51,
     "metadata": {},
     "output_type": "execute_result"
    }
   ],
   "source": [
    "float('10.5'),int('10')"
   ]
  },
  {
   "cell_type": "code",
   "execution_count": 56,
   "id": "3a527d40-ace5-4d80-b69c-3afec73850e4",
   "metadata": {},
   "outputs": [
    {
     "data": {
      "text/plain": [
       "(10.0, 10.5)"
      ]
     },
     "execution_count": 56,
     "metadata": {},
     "output_type": "execute_result"
    }
   ],
   "source": [
    "float('10'),float('10.5')"
   ]
  },
  {
   "cell_type": "code",
   "execution_count": 62,
   "id": "f9086ed0-f9bb-4fb0-9e1c-5a4ed07ebfaa",
   "metadata": {},
   "outputs": [
    {
     "data": {
      "text/plain": [
       "10"
      ]
     },
     "execution_count": 62,
     "metadata": {},
     "output_type": "execute_result"
    }
   ],
   "source": [
    "int('10')"
   ]
  },
  {
   "cell_type": "code",
   "execution_count": null,
   "id": "0843ee7a-59e5-43bb-96b9-56eb17c72fb7",
   "metadata": {},
   "outputs": [],
   "source": [
    "int(10)  # 10\n",
    "int(10.5) # 10\n",
    "int('10') # 10\n",
    "int('10.5') # error\n",
    "float(10)   # 10.0\n",
    "float(10.5) # 10.5\n",
    "float('10') # 10.0\n",
    "float('10.5') # 10.5"
   ]
  },
  {
   "cell_type": "code",
   "execution_count": null,
   "id": "ea6933df-634d-4d85-bbc6-a99331572b00",
   "metadata": {},
   "outputs": [],
   "source": [
    "int('0'),float('0'),bool('0') # interview question\n",
    "# 0        0.0        True         "
   ]
  },
  {
   "cell_type": "code",
   "execution_count": 59,
   "id": "a30b3126-1db1-4754-9229-372df6c0a704",
   "metadata": {},
   "outputs": [
    {
     "data": {
      "text/plain": [
       "(1, 0, 5)"
      ]
     },
     "execution_count": 59,
     "metadata": {},
     "output_type": "execute_result"
    }
   ],
   "source": [
    "len('0'),len(''),len('apple')\n",
    "# yes      No       Yes"
   ]
  },
  {
   "cell_type": "code",
   "execution_count": 63,
   "id": "ccbfda71-cf44-479c-aa5b-7908040ca4e2",
   "metadata": {},
   "outputs": [
    {
     "ename": "ValueError",
     "evalue": "invalid literal for int() with base 10: '0.0'",
     "output_type": "error",
     "traceback": [
      "\u001b[1;31m---------------------------------------------------------------------------\u001b[0m",
      "\u001b[1;31mValueError\u001b[0m                                Traceback (most recent call last)",
      "Cell \u001b[1;32mIn[63], line 1\u001b[0m\n\u001b[1;32m----> 1\u001b[0m \u001b[38;5;28mint\u001b[39m(\u001b[38;5;124m'\u001b[39m\u001b[38;5;124m0.0\u001b[39m\u001b[38;5;124m'\u001b[39m) \u001b[38;5;66;03m# error\u001b[39;00m\n\u001b[0;32m      2\u001b[0m \u001b[38;5;28mint\u001b[39m(\u001b[38;5;124m'\u001b[39m\u001b[38;5;124m10.5\u001b[39m\u001b[38;5;124m'\u001b[39m)\n",
      "\u001b[1;31mValueError\u001b[0m: invalid literal for int() with base 10: '0.0'"
     ]
    }
   ],
   "source": [
    "int('0.0') # error\n",
    "int('10.5') # error"
   ]
  },
  {
   "cell_type": "code",
   "execution_count": null,
   "id": "8cd01465-292b-4ab9-9506-c74d9907868d",
   "metadata": {},
   "outputs": [],
   "source": [
    "len('0.00')"
   ]
  },
  {
   "cell_type": "code",
   "execution_count": 60,
   "id": "2bf3da59-3071-4289-8301-50a117edb408",
   "metadata": {},
   "outputs": [
    {
     "data": {
      "text/plain": [
       "0.0"
      ]
     },
     "execution_count": 60,
     "metadata": {},
     "output_type": "execute_result"
    }
   ],
   "source": [
    "0.00"
   ]
  },
  {
   "cell_type": "code",
   "execution_count": null,
   "id": "fc33cbef-5b4b-476c-9120-c304df256fa4",
   "metadata": {},
   "outputs": [],
   "source": [
    "float('apple') # error we can not covert english to no\n",
    "int('apple')   # error ==\n",
    "bool('apple')  # True"
   ]
  },
  {
   "cell_type": "code",
   "execution_count": 64,
   "id": "393354ed-87e4-4fcb-bd2c-9c876b641312",
   "metadata": {},
   "outputs": [
    {
     "data": {
      "text/plain": [
       "(1, 1.0, 'True')"
      ]
     },
     "execution_count": 64,
     "metadata": {},
     "output_type": "execute_result"
    }
   ],
   "source": [
    "int(True),float(True),str(True)\n",
    "# 1        1.0         'True'"
   ]
  },
  {
   "cell_type": "code",
   "execution_count": 65,
   "id": "8f95789a-ee1f-48b5-9ed3-1c2dc530e6aa",
   "metadata": {},
   "outputs": [
    {
     "data": {
      "text/plain": [
       "(0, 0.0, 'False')"
      ]
     },
     "execution_count": 65,
     "metadata": {},
     "output_type": "execute_result"
    }
   ],
   "source": [
    "int(False),float(False),str(False)\n",
    "# 1        1.0         'True'"
   ]
  },
  {
   "cell_type": "code",
   "execution_count": null,
   "id": "16a9f30b-ccfb-4674-9f31-2a2e4bf97580",
   "metadata": {},
   "outputs": [],
   "source": [
    "float(10) # 10.0\n",
    "str(10)   # '10'\n",
    "bool(10)  # T\n",
    "int(10.5) # 10   error\n",
    "bool(10.5) # T\n",
    "str(10.5) # '10.5'\n",
    "int('10')  # 10\n",
    "float('10') # 10.0\n",
    "bool('10') # T\n",
    "int('10.5') # e\n",
    "float('10.5') # 10.5\n",
    "bool('10.5') # T\n",
    "int('apple') # e\n",
    "float('apple') # e\n",
    "bool('') # F\n",
    "int(True) # 1\n",
    "float(False) # 0.0 \n",
    "str(True) # 'True'"
   ]
  },
  {
   "cell_type": "code",
   "execution_count": null,
   "id": "0d8099d2-1c30-4e23-ab14-271c668b45b6",
   "metadata": {},
   "outputs": [],
   "source": [
    "int(10.5),int('10.5') \n",
    "# 10        fail"
   ]
  },
  {
   "cell_type": "code",
   "execution_count": 68,
   "id": "33821cc8-e786-464d-992d-1d7de9972f35",
   "metadata": {},
   "outputs": [
    {
     "data": {
      "text/plain": [
       "10"
      ]
     },
     "execution_count": 68,
     "metadata": {},
     "output_type": "execute_result"
    }
   ],
   "source": [
    "int(float('10.5'))  "
   ]
  },
  {
   "cell_type": "code",
   "execution_count": 69,
   "id": "b42e89bb-4c5f-48b7-a531-9905b5b7d8a9",
   "metadata": {},
   "outputs": [
    {
     "data": {
      "text/plain": [
       "10"
      ]
     },
     "execution_count": 69,
     "metadata": {},
     "output_type": "execute_result"
    }
   ],
   "source": [
    "int(float('10.5'))"
   ]
  },
  {
   "cell_type": "code",
   "execution_count": 70,
   "id": "4c36c37d-15ac-49ad-bf42-a39b01237060",
   "metadata": {},
   "outputs": [
    {
     "data": {
      "text/plain": [
       "'100200'"
      ]
     },
     "execution_count": 70,
     "metadata": {},
     "output_type": "execute_result"
    }
   ],
   "source": [
    "n1='100'\n",
    "n2='200'\n",
    "n1+n2"
   ]
  },
  {
   "cell_type": "code",
   "execution_count": 71,
   "id": "ac73a390-251e-4c27-b6be-3d24fef8e861",
   "metadata": {},
   "outputs": [
    {
     "data": {
      "text/plain": [
       "300"
      ]
     },
     "execution_count": 71,
     "metadata": {},
     "output_type": "execute_result"
    }
   ],
   "source": [
    "n1=int('100') #realtime\n",
    "n2=int('200')\n",
    "n1+n2"
   ]
  },
  {
   "cell_type": "code",
   "execution_count": 72,
   "id": "1fb180b3-a096-483a-a7fc-fe8791665177",
   "metadata": {},
   "outputs": [
    {
     "data": {
      "text/plain": [
       "300"
      ]
     },
     "execution_count": 72,
     "metadata": {},
     "output_type": "execute_result"
    }
   ],
   "source": [
    "n1='100'  \n",
    "n2='200'\n",
    "n1+n2 # '100'+'200'\n",
    "int(n1)+int(n2) # int('100')+int('200')=100+200=300\n"
   ]
  },
  {
   "cell_type": "code",
   "execution_count": 77,
   "id": "aa6c9341-fd13-4ddb-8ade-7f914c79e9ec",
   "metadata": {},
   "outputs": [
    {
     "data": {
      "text/plain": [
       "300.5"
      ]
     },
     "execution_count": 77,
     "metadata": {},
     "output_type": "execute_result"
    }
   ],
   "source": [
    "n1='100.5'\n",
    "n2='200'\n",
    "n1+n2  "
   ]
  },
  {
   "cell_type": "code",
   "execution_count": 76,
   "id": "ea9620a4-5152-4755-a228-3c725efb4bf7",
   "metadata": {},
   "outputs": [
    {
     "data": {
      "text/plain": [
       "300.5"
      ]
     },
     "execution_count": 76,
     "metadata": {},
     "output_type": "execute_result"
    }
   ],
   "source": [
    "n1=float('100.5') # float('100.5')=100.5\n",
    "n2=int('200')   # int('200') = 200\n",
    "n1+n2  "
   ]
  },
  {
   "cell_type": "code",
   "execution_count": 1,
   "id": "710f8ec8-9d41-4f3a-9a7c-855abe09a7d7",
   "metadata": {},
   "outputs": [
    {
     "ename": "ValueError",
     "evalue": "invalid literal for int() with base 10: '100.5'",
     "output_type": "error",
     "traceback": [
      "\u001b[1;31m---------------------------------------------------------------------------\u001b[0m",
      "\u001b[1;31mValueError\u001b[0m                                Traceback (most recent call last)",
      "Cell \u001b[1;32mIn[1], line 1\u001b[0m\n\u001b[1;32m----> 1\u001b[0m n1\u001b[38;5;241m=\u001b[39m\u001b[38;5;28mint\u001b[39m(\u001b[38;5;124m'\u001b[39m\u001b[38;5;124m100.5\u001b[39m\u001b[38;5;124m'\u001b[39m) \u001b[38;5;66;03m# float('100.5')=100.5\u001b[39;00m\n\u001b[0;32m      2\u001b[0m n2\u001b[38;5;241m=\u001b[39m\u001b[38;5;28mint\u001b[39m(\u001b[38;5;124m'\u001b[39m\u001b[38;5;124m200\u001b[39m\u001b[38;5;124m'\u001b[39m)   \u001b[38;5;66;03m# int('200') = 200\u001b[39;00m\n\u001b[0;32m      3\u001b[0m n1\u001b[38;5;241m+\u001b[39mn2\n",
      "\u001b[1;31mValueError\u001b[0m: invalid literal for int() with base 10: '100.5'"
     ]
    }
   ],
   "source": [
    "n1=int('100.5') # float('100.5')=100.5\n",
    "n2=int('200')   # int('200') = 200\n",
    "n1+n2 "
   ]
  },
  {
   "cell_type": "markdown",
   "id": "f687d0da-e2cc-468d-af2b-140eaf3e8c28",
   "metadata": {},
   "source": [
    "## **eval**"
   ]
  },
  {
   "cell_type": "code",
   "execution_count": null,
   "id": "33f8b18b-460c-464b-a5df-98b897cb56fc",
   "metadata": {},
   "outputs": [],
   "source": [
    "eval is all rounder(eval= float)"
   ]
  },
  {
   "cell_type": "code",
   "execution_count": 80,
   "id": "f6c46e46-9689-43c9-bd1b-a163910a2fe9",
   "metadata": {},
   "outputs": [
    {
     "name": "stdout",
     "output_type": "stream",
     "text": [
      "100.5\n",
      "200\n"
     ]
    },
    {
     "data": {
      "text/plain": [
       "300.5"
      ]
     },
     "execution_count": 80,
     "metadata": {},
     "output_type": "execute_result"
    }
   ],
   "source": [
    "n1=eval('100.5') \n",
    "print(n1)\n",
    "n2=eval('200') \n",
    "print(n2)\n",
    "n1+n2 \n",
    "\n",
    "\n",
    "n1=float('100.5')\n",
    "n2=float('200')  # 200\n",
    "n1+n2"
   ]
  },
  {
   "cell_type": "code",
   "execution_count": null,
   "id": "09214570-aa95-4a87-956c-c2bc015ce843",
   "metadata": {},
   "outputs": [],
   "source": [
    "float(n1+n2)\n",
    "float('100.5'+'200')\n",
    "float('100.5200')\n",
    "\n",
    "float(n1)+float(n2)\n",
    "float('100.5')+float('200')"
   ]
  },
  {
   "cell_type": "code",
   "execution_count": 81,
   "id": "0d2ec065-d932-44b4-b3ff-ef03f1bfdfc8",
   "metadata": {},
   "outputs": [
    {
     "data": {
      "text/plain": [
       "'100.5200'"
      ]
     },
     "execution_count": 81,
     "metadata": {},
     "output_type": "execute_result"
    }
   ],
   "source": [
    "'100'+'200'  # '100200'\n",
    "'100'+'****' # '100****'\n",
    "'100.5'+'200' # '100.5200'"
   ]
  },
  {
   "cell_type": "code",
   "execution_count": 82,
   "id": "ee95e72a-13f1-4f55-9666-51a87cbbefcf",
   "metadata": {},
   "outputs": [
    {
     "ename": "TypeError",
     "evalue": "unsupported operand type(s) for +: 'int' and 'str'",
     "output_type": "error",
     "traceback": [
      "\u001b[1;31m---------------------------------------------------------------------------\u001b[0m",
      "\u001b[1;31mTypeError\u001b[0m                                 Traceback (most recent call last)",
      "Cell \u001b[1;32mIn[82], line 1\u001b[0m\n\u001b[1;32m----> 1\u001b[0m \u001b[38;5;241m100\u001b[39m\u001b[38;5;241m+\u001b[39m\u001b[38;5;124m'\u001b[39m\u001b[38;5;124m200\u001b[39m\u001b[38;5;124m'\u001b[39m\n",
      "\u001b[1;31mTypeError\u001b[0m: unsupported operand type(s) for +: 'int' and 'str'"
     ]
    }
   ],
   "source": [
    "100+'200'"
   ]
  },
  {
   "cell_type": "code",
   "execution_count": 83,
   "id": "b147990d-38d8-4aff-b0af-befaf240732d",
   "metadata": {},
   "outputs": [],
   "source": [
    "n1=eval('10.5')"
   ]
  },
  {
   "cell_type": "code",
   "execution_count": null,
   "id": "9f822626-7bfb-4c6d-8868-ef8841e83521",
   "metadata": {},
   "outputs": [],
   "source": [
    "eval(10) #fail \n",
    "eval(10.5) # fail\n",
    "eval('apple') # fail"
   ]
  },
  {
   "cell_type": "code",
   "execution_count": 84,
   "id": "b9da8925-6991-409b-b1ab-09e7e9522089",
   "metadata": {},
   "outputs": [
    {
     "data": {
      "text/plain": [
       "300.5"
      ]
     },
     "execution_count": 84,
     "metadata": {},
     "output_type": "execute_result"
    }
   ],
   "source": [
    "\n",
    "n1='100.5'\n",
    "n2='200'\n",
    "n3=float(n1)+int(n2)\n",
    "n3\n",
    "\n"
   ]
  },
  {
   "cell_type": "code",
   "execution_count": 85,
   "id": "6f47e7cd-0a1b-4ea0-b3ca-c07726812192",
   "metadata": {},
   "outputs": [
    {
     "data": {
      "text/plain": [
       "False"
      ]
     },
     "execution_count": 85,
     "metadata": {},
     "output_type": "execute_result"
    }
   ],
   "source": [
    "int(10)==100 \n"
   ]
  },
  {
   "cell_type": "code",
   "execution_count": 12,
   "id": "d6334947-efd2-4daa-a37b-d23b4d1fa916",
   "metadata": {},
   "outputs": [
    {
     "name": "stdout",
     "output_type": "stream",
     "text": [
      "100.25\n",
      "200\n"
     ]
    },
    {
     "data": {
      "text/plain": [
       "300.25"
      ]
     },
     "execution_count": 12,
     "metadata": {},
     "output_type": "execute_result"
    }
   ],
   "source": [
    "n1=eval('100.25') \n",
    "print(n1)\n",
    "n2=eval('200') \n",
    "print(n2)\n",
    "n1+n2 "
   ]
  },
  {
   "cell_type": "code",
   "execution_count": 1,
   "id": "c150bdf6-38d2-46c4-9d9a-726eebe541f4",
   "metadata": {},
   "outputs": [
    {
     "data": {
      "text/plain": [
       "'100.5200'"
      ]
     },
     "execution_count": 1,
     "metadata": {},
     "output_type": "execute_result"
    }
   ],
   "source": [
    "'100'+'200'  # '100200'\n",
    "'100'+'****' # '100****'\n",
    "'100.5'+'200' # '100.5200'"
   ]
  },
  {
   "cell_type": "code",
   "execution_count": 2,
   "id": "538501d3-59f1-4e3a-9ce3-80f9494b3e1c",
   "metadata": {},
   "outputs": [
    {
     "ename": "TypeError",
     "evalue": "unsupported operand type(s) for +: 'int' and 'str'",
     "output_type": "error",
     "traceback": [
      "\u001b[1;31m---------------------------------------------------------------------------\u001b[0m",
      "\u001b[1;31mTypeError\u001b[0m                                 Traceback (most recent call last)",
      "Cell \u001b[1;32mIn[2], line 1\u001b[0m\n\u001b[1;32m----> 1\u001b[0m \u001b[38;5;241m100\u001b[39m\u001b[38;5;241m+\u001b[39m\u001b[38;5;124m'\u001b[39m\u001b[38;5;124m200\u001b[39m\u001b[38;5;124m'\u001b[39m\n",
      "\u001b[1;31mTypeError\u001b[0m: unsupported operand type(s) for +: 'int' and 'str'"
     ]
    }
   ],
   "source": [
    "100+'200'"
   ]
  },
  {
   "cell_type": "code",
   "execution_count": null,
   "id": "179a65bb-3613-4d2e-942f-76e76fdf30d2",
   "metadata": {},
   "outputs": [],
   "source": [
    " "
   ]
  }
 ],
 "metadata": {
  "kernelspec": {
   "display_name": "Python [conda env:base] *",
   "language": "python",
   "name": "conda-base-py"
  },
  "language_info": {
   "codemirror_mode": {
    "name": "ipython",
    "version": 3
   },
   "file_extension": ".py",
   "mimetype": "text/x-python",
   "name": "python",
   "nbconvert_exporter": "python",
   "pygments_lexer": "ipython3",
   "version": "3.13.5"
  }
 },
 "nbformat": 4,
 "nbformat_minor": 5
}
